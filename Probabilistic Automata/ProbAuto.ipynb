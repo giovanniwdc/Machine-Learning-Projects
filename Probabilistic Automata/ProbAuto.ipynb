{
 "cells": [
  {
   "cell_type": "markdown",
   "metadata": {},
   "source": [
    "# Probabilistic Automata"
   ]
  },
  {
   "cell_type": "markdown",
   "metadata": {},
   "source": [
    "## Geração de sinais com automatas probabilísticos"
   ]
  },
  {
   "cell_type": "code",
   "execution_count": 203,
   "metadata": {},
   "outputs": [],
   "source": [
    "import numpy as np \n",
    "import matplotlib.pyplot as plt"
   ]
  },
  {
   "cell_type": "markdown",
   "metadata": {},
   "source": [
    "### Algoritmo de Monte Carlo para gerar um sorteio aleatório de um elementoentre n tipos diferentes com n probabilidades distintas."
   ]
  },
  {
   "cell_type": "code",
   "execution_count": 204,
   "metadata": {},
   "outputs": [],
   "source": [
    "def mc_sample(fp):\n",
    "    # sortei uma amostra aleatória de tamanho 1 de uma variável aleatória com distribuição uniforme\n",
    "    s = np.random.uniform()\n",
    "    # probabilidade acumulada das regiões\n",
    "    F = fp[0]\n",
    "    i = 0\n",
    "    while s > F:\n",
    "        i+=1\n",
    "        if (i < len(fp)):\n",
    "          break\n",
    "    return i"
   ]
  },
  {
   "cell_type": "code",
   "execution_count": 205,
   "metadata": {},
   "outputs": [],
   "source": [
    "def p_automata(pm, pi, n, stop = -1):\n",
    "    signal = [0]\n",
    "    \n",
    "    fp = pm.dot(pi)\n",
    "    \n",
    "    for i in range(n):\n",
    "        move_to = mc_sample(fp)\n",
    "        signal.append(move_to)\n",
    "        fp = pm.dot(fp)\n",
    "\n",
    "    return signal"
   ]
  },
  {
   "cell_type": "code",
   "execution_count": 253,
   "metadata": {},
   "outputs": [],
   "source": [
    "pm = np.array([[0.6,0.5],[0.4,0.5]])\n",
    "pi = np.array([[0.1],[0.9]])"
   ]
  },
  {
   "cell_type": "code",
   "execution_count": 254,
   "metadata": {},
   "outputs": [],
   "source": [
    "signal = p_automata(pm, pi, 10)"
   ]
  },
  {
   "cell_type": "code",
   "execution_count": 255,
   "metadata": {},
   "outputs": [
    {
     "data": {
      "text/plain": [
       "[<matplotlib.lines.Line2D at 0x7fc07ddf5518>]"
      ]
     },
     "execution_count": 255,
     "metadata": {},
     "output_type": "execute_result"
    },
    {
     "data": {
      "image/png": "[encoded data removed]",
      "text/plain": [
       "<Figure size 432x288 with 1 Axes>"
      ]
     },
     "metadata": {
      "needs_background": "light"
     },
     "output_type": "display_data"
    }
   ],
   "source": [
    "graph_data_x = []\n",
    "graph_data_y = []\n",
    "for i in range(len(signal)):\n",
    "    graph_data_x.append(i)\n",
    "    graph_data_x.append((i + 1))\n",
    "    graph_data_y.append(signal[i])\n",
    "    graph_data_y.append(signal[i])\n",
    "\n",
    "plt.plot(graph_data_x, graph_data_y)"
   ]
  },
  {
   "cell_type": "code",
   "execution_count": null,
   "metadata": {},
   "outputs": [],
   "source": []
  },
  {
   "cell_type": "code",
   "execution_count": null,
   "metadata": {},
   "outputs": [],
   "source": []
  }
 ],
 "metadata": {
  "kernelspec": {
   "display_name": "Python 3",
   "language": "python",
   "name": "python3"
  },
  "language_info": {
   "codemirror_mode": {
    "name": "ipython",
    "version": 3
   },
   "file_extension": ".py",
   "mimetype": "text/x-python",
   "name": "python",
   "nbconvert_exporter": "python",
   "pygments_lexer": "ipython3",
   "version": "3.6.9"
  }
 },
 "nbformat": 4,
 "nbformat_minor": 4
}
